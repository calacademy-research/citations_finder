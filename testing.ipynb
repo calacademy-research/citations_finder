{
 "cells": [
  {
   "cell_type": "code",
   "execution_count": 1,
   "metadata": {},
   "outputs": [],
   "source": [
    "import pandas as pd"
   ]
  },
  {
   "cell_type": "code",
   "execution_count": 2,
   "metadata": {},
   "outputs": [],
   "source": [
    "string_set_pre_reference = [('california academy of science[s]?', 200), ('southern california academy of science[s]?', -200), ('CASC', 60), ('CASIZ', 200), ('izcas', -200), ('CAS-SUA', 200), ('CAS-SUR', 200), ('CAS-SU', 200), ('CAS:SU', 200), ('CASG', 200), ('CAS:ICH', 200), ('CAS-ICH', 200), ('CASTYPE', 200), ('CASENT', 200)]\n",
    "collection_manager_names = {('d. catania', 200), ('s. cotterell', 300), ('l scheinberg', 1000), ('m abarca', 200), ('jon fong', 200), ('rebekah kim', 200), ('jens vindum', 1000), ('c garcia', 200), ('j loacker', 1000), ('c piotrowski', 1000), ('d catania', 200), ('jim shevock', 300), ('s cotterell', 300), ('wojciech pulawski', 100)}"
   ]
  },
  {
   "cell_type": "code",
   "execution_count": 3,
   "metadata": {},
   "outputs": [],
   "source": [
    "string_set_pre_reference = set(string_set_pre_reference)\n",
    "string_set_pre_reference.update(collection_manager_names)"
   ]
  },
  {
   "cell_type": "code",
   "execution_count": 4,
   "metadata": {},
   "outputs": [
    {
     "data": {
      "text/plain": [
       "{('CAS-ICH', 200),\n",
       " ('CAS-SU', 200),\n",
       " ('CAS-SUA', 200),\n",
       " ('CAS-SUR', 200),\n",
       " ('CAS:ICH', 200),\n",
       " ('CAS:SU', 200),\n",
       " ('CASC', 60),\n",
       " ('CASENT', 200),\n",
       " ('CASG', 200),\n",
       " ('CASIZ', 200),\n",
       " ('CASTYPE', 200),\n",
       " ('c garcia', 200),\n",
       " ('c piotrowski', 1000),\n",
       " ('california academy of science[s]?', 200),\n",
       " ('d catania', 200),\n",
       " ('d. catania', 200),\n",
       " ('izcas', -200),\n",
       " ('j loacker', 1000),\n",
       " ('jens vindum', 1000),\n",
       " ('jim shevock', 300),\n",
       " ('jon fong', 200),\n",
       " ('l scheinberg', 1000),\n",
       " ('m abarca', 200),\n",
       " ('rebekah kim', 200),\n",
       " ('s cotterell', 300),\n",
       " ('s. cotterell', 300),\n",
       " ('southern california academy of science[s]?', -200),\n",
       " ('wojciech pulawski', 100)}"
      ]
     },
     "execution_count": 4,
     "metadata": {},
     "output_type": "execute_result"
    }
   ],
   "source": [
    "string_set_pre_reference"
   ]
  },
  {
   "cell_type": "code",
   "execution_count": null,
   "metadata": {},
   "outputs": [],
   "source": []
  },
  {
   "cell_type": "code",
   "execution_count": 2,
   "metadata": {},
   "outputs": [],
   "source": [
    "import logging\n",
    "import mysql.connector\n",
    "import yaml\n",
    "import traceback\n",
    "import time\n",
    "from pymysql.converters import escape_string\n",
    "\n",
    "class DBConnector(object):\n",
    "\n",
    "    def __init__(self):\n",
    "        self.dbconn = None\n",
    "        self.db_config = self.read_db_config()\n",
    "\n",
    "    def read_db_config(self):\n",
    "        with open('./vm/vm_passwords.yml', 'r') as file:\n",
    "            config = yaml.safe_load(file)\n",
    "        return config\n",
    "\n",
    "    # def create_connection(self):\n",
    "    #     return sqlite3.connect('doi_database.db', timeout=30.0)\n",
    "\n",
    "    def create_connection(self):\n",
    "        return mysql.connector.connect(\n",
    "            pool_name='mypool',\n",
    "            pool_size=10,\n",
    "            host=self.db_config['database_url'],\n",
    "            user=self.db_config['database_user'],  # Replace with your username\n",
    "            password=self.db_config['database_password'],\n",
    "\n",
    "            database=self.db_config['database_name'],  # Replace with your database name\n",
    "            port=self.db_config['database_port']\n",
    "        )\n",
    "\n",
    "    # For explicitly opening database connection\n",
    "    def __enter__(self):\n",
    "        self.dbconn = self.create_connection()\n",
    "        return self.dbconn\n",
    "\n",
    "    def __exit__(self, exc_type, exc_val, exc_tb):\n",
    "        self.dbconn.close()\n",
    "\n",
    "\n",
    "db_conn = DBConnector()\n",
    "\n",
    "\n",
    "class DBConnection(object):\n",
    "    connection = None\n",
    "\n",
    "    @classmethod\n",
    "    def get_connection(cls, new=False):\n",
    "        \"\"\"Creates return new Singleton database connection\"\"\"\n",
    "        if new or not cls.connection:\n",
    "            cls.connection = db_conn.create_connection()\n",
    "        return cls.connection\n",
    "\n",
    "    @classmethod\n",
    "    def log_sql(cls, query, stack_trace):\n",
    "        # for debugging, enable if there are issues.\n",
    "        # works with ./vm/sql_log_scan.sh\n",
    "        return\n",
    "        formatted_stack_trace = ''.join(stack_trace)\n",
    "        log_string = (\n",
    "            f\"SQL Query: {query}\\n\"\n",
    "            \"Stack Trace:\\n\"\n",
    "            f\"{formatted_stack_trace}\\n\"\n",
    "            f\"{'-' * 40}\\n\"\n",
    "        )\n",
    "        with open('./sql.log', 'a') as log_file:\n",
    "            log_file.write(log_string)\n",
    "    @classmethod\n",
    "    def execute_query(cls, query, args=None):\n",
    "        \"\"\"\n",
    "        Execute a SQL query with retry mechanism on deadlock.\n",
    "\n",
    "        :param query: The SQL query\n",
    "        :param args: Arguments for the query\n",
    "        :return: Query result for SELECT, or None for other types\n",
    "        \"\"\"\n",
    "        max_retries = 3\n",
    "        retry_delay = 60  # seconds\n",
    "\n",
    "        for attempt in range(max_retries):\n",
    "            connection = cls.get_connection()\n",
    "            try:\n",
    "                cursor = connection.cursor()\n",
    "                if args is None:\n",
    "                    cursor.execute(query)\n",
    "                    formatted_query = query\n",
    "                else:\n",
    "                    cursor.execute(query, args)\n",
    "                    formatted_query = query\n",
    "                    for arg in args:\n",
    "                        formatted_query = formatted_query.replace('%s', f\"'{escape_string(str(arg))}'\", 1)\n",
    "\n",
    "                cls.log_sql(formatted_query, traceback.format_stack())\n",
    "                if query.strip().upper().startswith(\"SELECT\"):\n",
    "                    result = cursor.fetchall()\n",
    "                    cursor.close()\n",
    "                    return result\n",
    "                else:\n",
    "                    connection.commit()\n",
    "                    cursor.close()\n",
    "                    return None\n",
    "            except mysql.connector.errors.InternalError as e:\n",
    "                if e.errno == 1213:  # Deadlock error code\n",
    "                    logging.warning(\n",
    "                        f\"Deadlock detected, attempt {attempt + 1} of {max_retries}. Retrying in {retry_delay} seconds.\")\n",
    "                    time.sleep(retry_delay)\n",
    "                else:\n",
    "                    raise e\n",
    "            except Exception as e:\n",
    "                logging.critical(f\"Bad SQL: {e}:\\n{query}\")\n",
    "                print(traceback.format_exc())\n",
    "\n",
    "                cursor.close()\n",
    "                raise e\n",
    "\n",
    "        # If all retries fail, rethrow the last exception\n",
    "        raise Exception(f\"Failed to execute query after {max_retries} attempts due to deadlock.\")\n",
    "\n",
    "\n"
   ]
  },
  {
   "cell_type": "code",
   "execution_count": 3,
   "metadata": {},
   "outputs": [],
   "source": [
    "conn = DBConnection()"
   ]
  },
  {
   "cell_type": "code",
   "execution_count": 4,
   "metadata": {},
   "outputs": [],
   "source": [
    "curr = conn.get_connection()"
   ]
  },
  {
   "cell_type": "code",
   "execution_count": 5,
   "metadata": {},
   "outputs": [
    {
     "data": {
      "text/plain": [
       "<mysql.connector.pooling.PooledMySQLConnection at 0x10fecb970>"
      ]
     },
     "execution_count": 5,
     "metadata": {},
     "output_type": "execute_result"
    }
   ],
   "source": [
    "curr"
   ]
  },
  {
   "cell_type": "code",
   "execution_count": null,
   "metadata": {},
   "outputs": [],
   "source": []
  },
  {
   "cell_type": "code",
   "execution_count": null,
   "metadata": {},
   "outputs": [],
   "source": []
  },
  {
   "cell_type": "code",
   "execution_count": null,
   "metadata": {},
   "outputs": [],
   "source": []
  },
  {
   "cell_type": "code",
   "execution_count": 6,
   "metadata": {},
   "outputs": [],
   "source": [
    "from config import Config\n",
    "config = Config()"
   ]
  },
  {
   "cell_type": "code",
   "execution_count": 7,
   "metadata": {},
   "outputs": [],
   "source": [
    "from doi_database import DoiDatabase\n",
    "db = DoiDatabase(config,\n",
    "                    config.get_int('crossref', 'scan_for_dois_after_year'),\n",
    "                    config.get_int('crossref', 'scan_for_dois_before_year'))"
   ]
  },
  {
   "cell_type": "code",
   "execution_count": 8,
   "metadata": {},
   "outputs": [],
   "source": [
    "from scan_database import ScanDatabase\n",
    "scan_start_year = 2016\n",
    "scan_end_year = 2016\n",
    "reset_scan_database = False\n",
    "rescore = False\n",
    "\n",
    "scan_db = ScanDatabase(db, reset_scan_database=False)"
   ]
  },
  {
   "cell_type": "code",
   "execution_count": 9,
   "metadata": {},
   "outputs": [
    {
     "ename": "",
     "evalue": "",
     "output_type": "error",
     "traceback": [
      "\u001b[1;31mThe Kernel crashed while executing code in the the current cell or a previous cell. Please review the code in the cell(s) to identify a possible cause of the failure. Click <a href='https://aka.ms/vscodeJupyterKernelCrash'>here</a> for more info. View Jupyter <a href='command:jupyter.viewOutput'>log</a> for further details."
     ]
    },
    {
     "ename": "",
     "evalue": "",
     "output_type": "error",
     "traceback": [
      "\u001b[1;31mCanceled future for execute_request message before replies were done"
     ]
    }
   ],
   "source": [
    "scan_db.scan_pdfs(scan_start_year, scan_end_year, rescore=rescore)"
   ]
  },
  {
   "cell_type": "code",
   "execution_count": null,
   "metadata": {},
   "outputs": [],
   "source": []
  },
  {
   "cell_type": "code",
   "execution_count": 8,
   "metadata": {},
   "outputs": [
    {
     "data": {
      "text/plain": [
       "[(694282,)]"
      ]
     },
     "execution_count": 8,
     "metadata": {},
     "output_type": "execute_result"
    }
   ],
   "source": [
    "query = \"\"\"SELECT COUNT(*) FROM collections_papers.scans\"\"\"\n",
    "conn.execute_query(query)"
   ]
  },
  {
   "cell_type": "code",
   "execution_count": 15,
   "metadata": {},
   "outputs": [
    {
     "name": "stderr",
     "output_type": "stream",
     "text": [
      "CRITICAL:root:Bad SQL: 1049 (42000): Unknown database 'thingy':\n",
      "SELECT COUNT(*) FROM thingy.scans\n"
     ]
    },
    {
     "name": "stdout",
     "output_type": "stream",
     "text": [
      "Traceback (most recent call last):\n",
      "  File \"/opt/anaconda3/envs/citations-finder/lib/python3.10/site-packages/mysql/connector/connection_cext.py\", line 661, in cmd_query\n",
      "    self._cmysql.query(\n",
      "_mysql_connector.MySQLInterfaceError: Unknown database 'thingy'\n",
      "\n",
      "The above exception was the direct cause of the following exception:\n",
      "\n",
      "Traceback (most recent call last):\n",
      "  File \"/var/folders/s4/l2klswfj1wvcw_vbmvvbc70h0000gn/T/ipykernel_62268/20107826.py\", line 108, in execute_query\n",
      "    cursor.execute(query)\n",
      "  File \"/opt/anaconda3/envs/citations-finder/lib/python3.10/site-packages/mysql/connector/cursor_cext.py\", line 374, in execute\n",
      "    result = self._cnx.cmd_query(\n",
      "  File \"/opt/anaconda3/envs/citations-finder/lib/python3.10/site-packages/mysql/connector/opentelemetry/context_propagation.py\", line 74, in wrapper\n",
      "    return method(cnx, *args, **kwargs)\n",
      "  File \"/opt/anaconda3/envs/citations-finder/lib/python3.10/site-packages/mysql/connector/connection_cext.py\", line 669, in cmd_query\n",
      "    raise get_mysql_exception(\n",
      "mysql.connector.errors.ProgrammingError: 1049 (42000): Unknown database 'thingy'\n",
      "\n"
     ]
    },
    {
     "ename": "ProgrammingError",
     "evalue": "1049 (42000): Unknown database 'thingy'",
     "output_type": "error",
     "traceback": [
      "\u001b[0;31m---------------------------------------------------------------------------\u001b[0m",
      "\u001b[0;31mMySQLInterfaceError\u001b[0m                       Traceback (most recent call last)",
      "File \u001b[0;32m/opt/anaconda3/envs/citations-finder/lib/python3.10/site-packages/mysql/connector/connection_cext.py:661\u001b[0m, in \u001b[0;36mCMySQLConnection.cmd_query\u001b[0;34m(self, query, raw, buffered, raw_as_string)\u001b[0m\n\u001b[1;32m    660\u001b[0m         query \u001b[38;5;241m=\u001b[39m query\u001b[38;5;241m.\u001b[39mencode(\u001b[38;5;124m\"\u001b[39m\u001b[38;5;124mutf-8\u001b[39m\u001b[38;5;124m\"\u001b[39m)\n\u001b[0;32m--> 661\u001b[0m     \u001b[38;5;28;43mself\u001b[39;49m\u001b[38;5;241;43m.\u001b[39;49m\u001b[43m_cmysql\u001b[49m\u001b[38;5;241;43m.\u001b[39;49m\u001b[43mquery\u001b[49m\u001b[43m(\u001b[49m\n\u001b[1;32m    662\u001b[0m \u001b[43m        \u001b[49m\u001b[43mquery\u001b[49m\u001b[43m,\u001b[49m\n\u001b[1;32m    663\u001b[0m \u001b[43m        \u001b[49m\u001b[43mraw\u001b[49m\u001b[38;5;241;43m=\u001b[39;49m\u001b[43mraw\u001b[49m\u001b[43m,\u001b[49m\n\u001b[1;32m    664\u001b[0m \u001b[43m        \u001b[49m\u001b[43mbuffered\u001b[49m\u001b[38;5;241;43m=\u001b[39;49m\u001b[43mbuffered\u001b[49m\u001b[43m,\u001b[49m\n\u001b[1;32m    665\u001b[0m \u001b[43m        \u001b[49m\u001b[43mraw_as_string\u001b[49m\u001b[38;5;241;43m=\u001b[39;49m\u001b[43mraw_as_string\u001b[49m\u001b[43m,\u001b[49m\n\u001b[1;32m    666\u001b[0m \u001b[43m        \u001b[49m\u001b[43mquery_attrs\u001b[49m\u001b[38;5;241;43m=\u001b[39;49m\u001b[38;5;28;43mself\u001b[39;49m\u001b[38;5;241;43m.\u001b[39;49m\u001b[43mquery_attrs\u001b[49m\u001b[43m,\u001b[49m\n\u001b[1;32m    667\u001b[0m \u001b[43m    \u001b[49m\u001b[43m)\u001b[49m\n\u001b[1;32m    668\u001b[0m \u001b[38;5;28;01mexcept\u001b[39;00m MySQLInterfaceError \u001b[38;5;28;01mas\u001b[39;00m err:\n",
      "\u001b[0;31mMySQLInterfaceError\u001b[0m: Unknown database 'thingy'",
      "\nThe above exception was the direct cause of the following exception:\n",
      "\u001b[0;31mProgrammingError\u001b[0m                          Traceback (most recent call last)",
      "Cell \u001b[0;32mIn[15], line 2\u001b[0m\n\u001b[1;32m      1\u001b[0m query \u001b[38;5;241m=\u001b[39m \u001b[38;5;124m\"\"\"\u001b[39m\u001b[38;5;124mSELECT COUNT(*) FROM thingy.scans\u001b[39m\u001b[38;5;124m\"\"\"\u001b[39m\n\u001b[0;32m----> 2\u001b[0m \u001b[43mconn\u001b[49m\u001b[38;5;241;43m.\u001b[39;49m\u001b[43mexecute_query\u001b[49m\u001b[43m(\u001b[49m\u001b[43mquery\u001b[49m\u001b[43m)\u001b[49m\n",
      "Cell \u001b[0;32mIn[7], line 137\u001b[0m, in \u001b[0;36mDBConnection.execute_query\u001b[0;34m(cls, query, args)\u001b[0m\n\u001b[1;32m    134\u001b[0m         \u001b[38;5;28mprint\u001b[39m(traceback\u001b[38;5;241m.\u001b[39mformat_exc())\n\u001b[1;32m    136\u001b[0m         cursor\u001b[38;5;241m.\u001b[39mclose()\n\u001b[0;32m--> 137\u001b[0m         \u001b[38;5;28;01mraise\u001b[39;00m e\n\u001b[1;32m    139\u001b[0m \u001b[38;5;66;03m# If all retries fail, rethrow the last exception\u001b[39;00m\n\u001b[1;32m    140\u001b[0m \u001b[38;5;28;01mraise\u001b[39;00m \u001b[38;5;167;01mException\u001b[39;00m(\u001b[38;5;124mf\u001b[39m\u001b[38;5;124m\"\u001b[39m\u001b[38;5;124mFailed to execute query after \u001b[39m\u001b[38;5;132;01m{\u001b[39;00mmax_retries\u001b[38;5;132;01m}\u001b[39;00m\u001b[38;5;124m attempts due to deadlock.\u001b[39m\u001b[38;5;124m\"\u001b[39m)\n",
      "Cell \u001b[0;32mIn[7], line 108\u001b[0m, in \u001b[0;36mDBConnection.execute_query\u001b[0;34m(cls, query, args)\u001b[0m\n\u001b[1;32m    106\u001b[0m cursor \u001b[38;5;241m=\u001b[39m connection\u001b[38;5;241m.\u001b[39mcursor()\n\u001b[1;32m    107\u001b[0m \u001b[38;5;28;01mif\u001b[39;00m args \u001b[38;5;129;01mis\u001b[39;00m \u001b[38;5;28;01mNone\u001b[39;00m:\n\u001b[0;32m--> 108\u001b[0m     \u001b[43mcursor\u001b[49m\u001b[38;5;241;43m.\u001b[39;49m\u001b[43mexecute\u001b[49m\u001b[43m(\u001b[49m\u001b[43mquery\u001b[49m\u001b[43m)\u001b[49m\n\u001b[1;32m    109\u001b[0m     formatted_query \u001b[38;5;241m=\u001b[39m query\n\u001b[1;32m    110\u001b[0m \u001b[38;5;28;01melse\u001b[39;00m:\n",
      "File \u001b[0;32m/opt/anaconda3/envs/citations-finder/lib/python3.10/site-packages/mysql/connector/cursor_cext.py:374\u001b[0m, in \u001b[0;36mCMySQLCursor.execute\u001b[0;34m(self, operation, params, multi)\u001b[0m\n\u001b[1;32m    369\u001b[0m             \u001b[38;5;28;01mraise\u001b[39;00m ProgrammingError(\n\u001b[1;32m    370\u001b[0m                 \u001b[38;5;124m\"\u001b[39m\u001b[38;5;124mNot all parameters were used in the SQL statement\u001b[39m\u001b[38;5;124m\"\u001b[39m\n\u001b[1;32m    371\u001b[0m             )\n\u001b[1;32m    373\u001b[0m \u001b[38;5;28;01mtry\u001b[39;00m:\n\u001b[0;32m--> 374\u001b[0m     result \u001b[38;5;241m=\u001b[39m \u001b[38;5;28;43mself\u001b[39;49m\u001b[38;5;241;43m.\u001b[39;49m\u001b[43m_cnx\u001b[49m\u001b[38;5;241;43m.\u001b[39;49m\u001b[43mcmd_query\u001b[49m\u001b[43m(\u001b[49m\n\u001b[1;32m    375\u001b[0m \u001b[43m        \u001b[49m\u001b[43mstmt\u001b[49m\u001b[43m,\u001b[49m\n\u001b[1;32m    376\u001b[0m \u001b[43m        \u001b[49m\u001b[43mraw\u001b[49m\u001b[38;5;241;43m=\u001b[39;49m\u001b[38;5;28;43mself\u001b[39;49m\u001b[38;5;241;43m.\u001b[39;49m\u001b[43m_raw\u001b[49m\u001b[43m,\u001b[49m\n\u001b[1;32m    377\u001b[0m \u001b[43m        \u001b[49m\u001b[43mbuffered\u001b[49m\u001b[38;5;241;43m=\u001b[39;49m\u001b[38;5;28;43mself\u001b[39;49m\u001b[38;5;241;43m.\u001b[39;49m\u001b[43m_buffered\u001b[49m\u001b[43m,\u001b[49m\n\u001b[1;32m    378\u001b[0m \u001b[43m        \u001b[49m\u001b[43mraw_as_string\u001b[49m\u001b[38;5;241;43m=\u001b[39;49m\u001b[38;5;28;43mself\u001b[39;49m\u001b[38;5;241;43m.\u001b[39;49m\u001b[43m_raw_as_string\u001b[49m\u001b[43m,\u001b[49m\n\u001b[1;32m    379\u001b[0m \u001b[43m    \u001b[49m\u001b[43m)\u001b[49m\n\u001b[1;32m    380\u001b[0m \u001b[38;5;28;01mexcept\u001b[39;00m MySQLInterfaceError \u001b[38;5;28;01mas\u001b[39;00m err:\n\u001b[1;32m    381\u001b[0m     \u001b[38;5;28;01mraise\u001b[39;00m get_mysql_exception(\n\u001b[1;32m    382\u001b[0m         msg\u001b[38;5;241m=\u001b[39merr\u001b[38;5;241m.\u001b[39mmsg, errno\u001b[38;5;241m=\u001b[39merr\u001b[38;5;241m.\u001b[39merrno, sqlstate\u001b[38;5;241m=\u001b[39merr\u001b[38;5;241m.\u001b[39msqlstate\n\u001b[1;32m    383\u001b[0m     ) \u001b[38;5;28;01mfrom\u001b[39;00m \u001b[38;5;21;01merr\u001b[39;00m\n",
      "File \u001b[0;32m/opt/anaconda3/envs/citations-finder/lib/python3.10/site-packages/mysql/connector/opentelemetry/context_propagation.py:74\u001b[0m, in \u001b[0;36mwith_context_propagation.<locals>.wrapper\u001b[0;34m(cnx, *args, **kwargs)\u001b[0m\n\u001b[1;32m     72\u001b[0m \u001b[38;5;250m\u001b[39m\u001b[38;5;124;03m\"\"\"Context propagation decorator.\"\"\"\u001b[39;00m\n\u001b[1;32m     73\u001b[0m \u001b[38;5;28;01mif\u001b[39;00m \u001b[38;5;129;01mnot\u001b[39;00m OTEL_ENABLED \u001b[38;5;129;01mor\u001b[39;00m \u001b[38;5;129;01mnot\u001b[39;00m cnx\u001b[38;5;241m.\u001b[39motel_context_propagation:\n\u001b[0;32m---> 74\u001b[0m     \u001b[38;5;28;01mreturn\u001b[39;00m \u001b[43mmethod\u001b[49m\u001b[43m(\u001b[49m\u001b[43mcnx\u001b[49m\u001b[43m,\u001b[49m\u001b[43m \u001b[49m\u001b[38;5;241;43m*\u001b[39;49m\u001b[43margs\u001b[49m\u001b[43m,\u001b[49m\u001b[43m \u001b[49m\u001b[38;5;241;43m*\u001b[39;49m\u001b[38;5;241;43m*\u001b[39;49m\u001b[43mkwargs\u001b[49m\u001b[43m)\u001b[49m\n\u001b[1;32m     76\u001b[0m current_span \u001b[38;5;241m=\u001b[39m trace\u001b[38;5;241m.\u001b[39mget_current_span()\n\u001b[1;32m     77\u001b[0m tp_header \u001b[38;5;241m=\u001b[39m \u001b[38;5;28;01mNone\u001b[39;00m\n",
      "File \u001b[0;32m/opt/anaconda3/envs/citations-finder/lib/python3.10/site-packages/mysql/connector/connection_cext.py:669\u001b[0m, in \u001b[0;36mCMySQLConnection.cmd_query\u001b[0;34m(self, query, raw, buffered, raw_as_string)\u001b[0m\n\u001b[1;32m    661\u001b[0m     \u001b[38;5;28mself\u001b[39m\u001b[38;5;241m.\u001b[39m_cmysql\u001b[38;5;241m.\u001b[39mquery(\n\u001b[1;32m    662\u001b[0m         query,\n\u001b[1;32m    663\u001b[0m         raw\u001b[38;5;241m=\u001b[39mraw,\n\u001b[0;32m   (...)\u001b[0m\n\u001b[1;32m    666\u001b[0m         query_attrs\u001b[38;5;241m=\u001b[39m\u001b[38;5;28mself\u001b[39m\u001b[38;5;241m.\u001b[39mquery_attrs,\n\u001b[1;32m    667\u001b[0m     )\n\u001b[1;32m    668\u001b[0m \u001b[38;5;28;01mexcept\u001b[39;00m MySQLInterfaceError \u001b[38;5;28;01mas\u001b[39;00m err:\n\u001b[0;32m--> 669\u001b[0m     \u001b[38;5;28;01mraise\u001b[39;00m get_mysql_exception(\n\u001b[1;32m    670\u001b[0m         err\u001b[38;5;241m.\u001b[39merrno, msg\u001b[38;5;241m=\u001b[39merr\u001b[38;5;241m.\u001b[39mmsg, sqlstate\u001b[38;5;241m=\u001b[39merr\u001b[38;5;241m.\u001b[39msqlstate\n\u001b[1;32m    671\u001b[0m     ) \u001b[38;5;28;01mfrom\u001b[39;00m \u001b[38;5;21;01merr\u001b[39;00m\n\u001b[1;32m    672\u001b[0m \u001b[38;5;28;01mexcept\u001b[39;00m \u001b[38;5;167;01mAttributeError\u001b[39;00m \u001b[38;5;28;01mas\u001b[39;00m err:\n\u001b[1;32m    673\u001b[0m     addr \u001b[38;5;241m=\u001b[39m (\n\u001b[1;32m    674\u001b[0m         \u001b[38;5;28mself\u001b[39m\u001b[38;5;241m.\u001b[39m_unix_socket \u001b[38;5;28;01mif\u001b[39;00m \u001b[38;5;28mself\u001b[39m\u001b[38;5;241m.\u001b[39m_unix_socket \u001b[38;5;28;01melse\u001b[39;00m \u001b[38;5;124mf\u001b[39m\u001b[38;5;124m\"\u001b[39m\u001b[38;5;132;01m{\u001b[39;00m\u001b[38;5;28mself\u001b[39m\u001b[38;5;241m.\u001b[39m_host\u001b[38;5;132;01m}\u001b[39;00m\u001b[38;5;124m:\u001b[39m\u001b[38;5;132;01m{\u001b[39;00m\u001b[38;5;28mself\u001b[39m\u001b[38;5;241m.\u001b[39m_port\u001b[38;5;132;01m}\u001b[39;00m\u001b[38;5;124m\"\u001b[39m\n\u001b[1;32m    675\u001b[0m     )\n",
      "\u001b[0;31mProgrammingError\u001b[0m: 1049 (42000): Unknown database 'thingy'"
     ]
    }
   ],
   "source": [
    "query = \"\"\"SELECT COUNT(*) FROM thingy.scans\"\"\"\n",
    "conn.execute_query(query)"
   ]
  },
  {
   "cell_type": "code",
   "execution_count": null,
   "metadata": {},
   "outputs": [],
   "source": []
  }
 ],
 "metadata": {
  "kernelspec": {
   "display_name": "citations-finder",
   "language": "python",
   "name": "python3"
  },
  "language_info": {
   "codemirror_mode": {
    "name": "ipython",
    "version": 3
   },
   "file_extension": ".py",
   "mimetype": "text/x-python",
   "name": "python",
   "nbconvert_exporter": "python",
   "pygments_lexer": "ipython3",
   "version": "3.10.14"
  }
 },
 "nbformat": 4,
 "nbformat_minor": 2
}
